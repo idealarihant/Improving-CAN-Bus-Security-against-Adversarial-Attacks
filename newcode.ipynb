{
 "cells": [
  {
   "cell_type": "code",
   "execution_count": 1,
   "metadata": {},
   "outputs": [],
   "source": [
    "import pandas as pd\n",
    "import numpy as np\n",
    "from bokeh.plotting import figure,show\n",
    "import matplotlib.pyplot as plt\n",
    "from pyts.image import RecurrencePlot"
   ]
  },
  {
   "cell_type": "code",
   "execution_count": 2,
   "metadata": {},
   "outputs": [],
   "source": [
    "data=[]\n",
    "with open(\"D:\\IIT-Delhi\\Semester-2\\SIL765-Networks & System Security\\Project\\Implementation\\plot.txt\") as f:\n",
    "    data.extend([lines.strip().split(\"@\") for lines in f.readlines()])\n",
    "df=pd.DataFrame()\n",
    "timestamp,aid=[],[]\n",
    "for i in range(len(data)):\n",
    "    timestamp.append(float(data[i][0]))\n",
    "    aid.append(str(data[i][1]))\n",
    "timestamp=np.array(timestamp)\n",
    "df[\"Timestamp\"]=timestamp\n",
    "aid=np.array(aid)\n",
    "df[\"aid\"]=aid\n",
    "df[\"aid\"]=df[\"aid\"].apply(int,base=16)\n",
    "aid=np.array(df[\"aid\"])\n",
    "p=figure(title=\"ArbitrationID vs Time\",x_axis_label=\"Time\",y_axis_label=\"Arbitration_Id\",sizing_mode=\"fixed\",width=1000,height=500)\n",
    "p.scatter(timestamp[:1000],aid[:1000])\n",
    "show(p)\n",
    "df[\"acc_clock_offset\"]=df[\"Timestamp\"].cumsum()\n",
    "df[\"acc_clock_offset\"]=df[\"Timestamp\"]*(10**6)\n",
    "delta=[]\n",
    "flag=[]\n",
    "a=df[\"aid\"][0]\n",
    "b=abs(df[\"aid\"][1]-df[\"aid\"][0])\n",
    "if(a>b):\n",
    "    delta.append(a)\n",
    "    flag.append(0)\n",
    "else:\n",
    "    delta.append(b)\n",
    "    flag.append(1)\n",
    "\n",
    "for i in range(1,len(data)-1):\n",
    "    a=abs(df[\"aid\"][i]-df[\"aid\"][i-1])\n",
    "    b=abs(df[\"aid\"][i+1]-df[\"aid\"][i])\n",
    "    if(a>b):\n",
    "        delta.append(a)\n",
    "        flag.append(0)\n",
    "    else:\n",
    "        delta.append(b)\n",
    "        flag.append(1)\n",
    "\n",
    "a=abs(df[\"aid\"][len(df)-2]-df[\"aid\"][len(df)-1])\n",
    "b=abs(df[\"aid\"][len(df)-1])\n",
    "if(a>b):\n",
    "    delta.append(a)\n",
    "    flag.append(0)\n",
    "else:\n",
    "    delta.append(b)\n",
    "    flag.append(1)\n",
    "df[\"delta\"]=np.array(delta)\n",
    "df[\"flag\"]=np.array(flag)\n",
    "new_id=[]\n",
    "for i in range(len(df)):\n",
    "    if df['delta'][i]==0:\n",
    "        new_id.append(df[\"aid\"][i-1])\n",
    "    elif df[\"flag\"][i]==0 and (df[\"aid\"][i]-(df[\"acc_clock_offset\"][i]%df[\"delta\"][i]))>=0.0:\n",
    "        new_id.append(df[\"aid\"][i]-(df[\"acc_clock_offset\"][i]%df[\"delta\"][i]))\n",
    "    else:\n",
    "        new_id.append(df[\"aid\"][i]+(df[\"acc_clock_offset\"][i]%df[\"delta\"][i]))\n",
    "new_id=np.array(new_id)\n",
    "new_id=np.int64(new_id)\n",
    "new_id\n",
    "p=figure(title=\"Dynamic ArbitrationID vs Time\",x_axis_label=\"Time\",y_axis_label=\"Dynamic ArbitrationID\",sizing_mode=\"fixed\",width=1000,height=500)\n",
    "p.scatter(timestamp[:1000],new_id[:1000])\n",
    "show(p)"
   ]
  },
  {
   "cell_type": "code",
   "execution_count": 3,
   "metadata": {},
   "outputs": [
    {
     "data": {
      "text/html": [
       "<div>\n",
       "<style scoped>\n",
       "    .dataframe tbody tr th:only-of-type {\n",
       "        vertical-align: middle;\n",
       "    }\n",
       "\n",
       "    .dataframe tbody tr th {\n",
       "        vertical-align: top;\n",
       "    }\n",
       "\n",
       "    .dataframe thead th {\n",
       "        text-align: right;\n",
       "    }\n",
       "</style>\n",
       "<table border=\"1\" class=\"dataframe\">\n",
       "  <thead>\n",
       "    <tr style=\"text-align: right;\">\n",
       "      <th></th>\n",
       "      <th>Timestamp</th>\n",
       "      <th>aid</th>\n",
       "      <th>acc_clock_offset</th>\n",
       "      <th>delta</th>\n",
       "      <th>flag</th>\n",
       "    </tr>\n",
       "  </thead>\n",
       "  <tbody>\n",
       "    <tr>\n",
       "      <th>Timestamp</th>\n",
       "      <td>1.000000</td>\n",
       "      <td>0.000775</td>\n",
       "      <td>1.000000</td>\n",
       "      <td>-0.025723</td>\n",
       "      <td>-0.008624</td>\n",
       "    </tr>\n",
       "    <tr>\n",
       "      <th>aid</th>\n",
       "      <td>0.000775</td>\n",
       "      <td>1.000000</td>\n",
       "      <td>0.000775</td>\n",
       "      <td>0.028920</td>\n",
       "      <td>0.118029</td>\n",
       "    </tr>\n",
       "    <tr>\n",
       "      <th>acc_clock_offset</th>\n",
       "      <td>1.000000</td>\n",
       "      <td>0.000775</td>\n",
       "      <td>1.000000</td>\n",
       "      <td>-0.025723</td>\n",
       "      <td>-0.008624</td>\n",
       "    </tr>\n",
       "    <tr>\n",
       "      <th>delta</th>\n",
       "      <td>-0.025723</td>\n",
       "      <td>0.028920</td>\n",
       "      <td>-0.025723</td>\n",
       "      <td>1.000000</td>\n",
       "      <td>0.011085</td>\n",
       "    </tr>\n",
       "    <tr>\n",
       "      <th>flag</th>\n",
       "      <td>-0.008624</td>\n",
       "      <td>0.118029</td>\n",
       "      <td>-0.008624</td>\n",
       "      <td>0.011085</td>\n",
       "      <td>1.000000</td>\n",
       "    </tr>\n",
       "  </tbody>\n",
       "</table>\n",
       "</div>"
      ],
      "text/plain": [
       "                  Timestamp       aid  acc_clock_offset     delta      flag\n",
       "Timestamp          1.000000  0.000775          1.000000 -0.025723 -0.008624\n",
       "aid                0.000775  1.000000          0.000775  0.028920  0.118029\n",
       "acc_clock_offset   1.000000  0.000775          1.000000 -0.025723 -0.008624\n",
       "delta             -0.025723  0.028920         -0.025723  1.000000  0.011085\n",
       "flag              -0.008624  0.118029         -0.008624  0.011085  1.000000"
      ]
     },
     "execution_count": 3,
     "metadata": {},
     "output_type": "execute_result"
    }
   ],
   "source": [
    "df.corr()"
   ]
  },
  {
   "cell_type": "code",
   "execution_count": 4,
   "metadata": {},
   "outputs": [
    {
     "data": {
      "image/png": "[encoded data removed]",
      "text/plain": [
       "<Figure size 576x576 with 1 Axes>"
      ]
     },
     "metadata": {
      "needs_background": "light"
     },
     "output_type": "display_data"
    }
   ],
   "source": [
    "cnn_id_data=aid[:(10000)]\n",
    "cnn_id_data=np.array(cnn_id_data)\n",
    "cnn_id_data=cnn_id_data.reshape(100,100)\n",
    "# unique_ids = list(set(cnn_id_data))\n",
    "# id_to_num = dict(zip(unique_ids, range(len(unique_ids))))\n",
    "# num_sequence = [id_to_num[id] if id in id_to_num else -1 for id in cnn_id_data]\n",
    "# num_sequence=np.array(num_sequence)\n",
    "# num_sequence=num_sequence.reshape(100,100)\n",
    "rp = RecurrencePlot(dimension=1,threshold='point',percentage=40)\n",
    "X_rp = rp.transform(cnn_id_data)\n",
    "plt.figure(figsize=(8, 8))\n",
    "plt.imshow(X_rp[1], cmap='binary', origin='lower')\n",
    "plt.show()"
   ]
  },
  {
   "cell_type": "code",
   "execution_count": 5,
   "metadata": {},
   "outputs": [
    {
     "data": {
      "text/plain": [
       "array([[1., 0., 0., ..., 1., 0., 0.],\n",
       "       [0., 1., 0., ..., 0., 0., 1.],\n",
       "       [0., 0., 1., ..., 0., 1., 0.],\n",
       "       ...,\n",
       "       [1., 0., 0., ..., 1., 0., 0.],\n",
       "       [0., 0., 1., ..., 0., 1., 0.],\n",
       "       [0., 1., 0., ..., 0., 0., 1.]])"
      ]
     },
     "execution_count": 5,
     "metadata": {},
     "output_type": "execute_result"
    }
   ],
   "source": [
    "X_rp[0]"
   ]
  },
  {
   "cell_type": "code",
   "execution_count": 6,
   "metadata": {},
   "outputs": [],
   "source": [
    "image=np.array(X_rp[0])\n",
    "image=image.astype(int)\n",
    "image=image.reshape(1,100,100,1)"
   ]
  },
  {
   "cell_type": "code",
   "execution_count": 7,
   "metadata": {},
   "outputs": [
    {
     "data": {
      "text/plain": [
       "(1, 100, 100, 1)"
      ]
     },
     "execution_count": 7,
     "metadata": {},
     "output_type": "execute_result"
    }
   ],
   "source": [
    "image.shape"
   ]
  },
  {
   "attachments": {},
   "cell_type": "markdown",
   "metadata": {},
   "source": [
    "CNN code:-"
   ]
  },
  {
   "cell_type": "code",
   "execution_count": 8,
   "metadata": {},
   "outputs": [],
   "source": [
    "import tensorflow\n",
    "from tensorflow import keras\n",
    "from keras.layers import Dense,Conv2D,Flatten,MaxPooling2D,Dropout,InputLayer\n",
    "from keras import Sequential\n",
    "from keras.optimizers import Adam"
   ]
  },
  {
   "cell_type": "code",
   "execution_count": 11,
   "metadata": {},
   "outputs": [],
   "source": [
    "from keras.models import Sequential\n",
    "from keras.layers import LSTM, Dense, Dropout\n",
    "\n",
    "model = Sequential()\n",
    "model.add(LSTM(128, input_shape=(100, 100), return_sequences=True))\n",
    "model.add(Dropout(0.2))\n",
    "model.add(LSTM(64, return_sequences=False))\n",
    "model.add(Dropout(0.2))\n",
    "model.add(Dense(1, activation='sigmoid'))\n",
    "\n",
    "model.compile(loss='binary_crossentropy', optimizer='adam', metrics=['accuracy'])\n",
    "\n",
    "# model.fit(X_train, y_train, batch_size=32, epochs=50, validation_data=(X_test, y_test))"
   ]
  },
  {
   "cell_type": "code",
   "execution_count": 9,
   "metadata": {},
   "outputs": [],
   "source": [
    "model=Sequential()\n",
    "model.add(Conv2D(filters=64,kernel_size=(3,3),padding=\"same\",activation=\"relu\",input_shape=(100,100,1)))\n",
    "model.add(MaxPooling2D(pool_size=(2,2),padding=\"valid\",strides=2))\n",
    "model.add(Conv2D(filters=256,kernel_size=(3,3),padding=\"same\",activation=\"relu\"))\n",
    "model.add(MaxPooling2D(pool_size=(2,2),padding=\"valid\",strides=2))\n",
    "model.add(Dropout(0.9))\n",
    "model.add(Flatten())\n",
    "model.add(Dense(units=16,activation=\"relu\"))\n",
    "model.add(Dense(units=1,activation=\"sigmoid\"))\n",
    "adam = Adam(learning_rate=0.0001)\n",
    "model.compile(optimizer=adam,loss=\"binary_crossentropy\",metrics=[\"accuracy\"])\n",
    "#,loss=\"binary_crossentropy\",metrics=[\"accuracy\"]"
   ]
  },
  {
   "cell_type": "code",
   "execution_count": 13,
   "metadata": {},
   "outputs": [
    {
     "name": "stdout",
     "output_type": "stream",
     "text": [
      "Model: \"sequential_2\"\n",
      "_________________________________________________________________\n",
      " Layer (type)                Output Shape              Param #   \n",
      "=================================================================\n",
      " lstm_3 (LSTM)               (None, 100, 128)          117248    \n",
      "                                                                 \n",
      " dropout_2 (Dropout)         (None, 100, 128)          0         \n",
      "                                                                 \n",
      " lstm_4 (LSTM)               (None, 64)                49408     \n",
      "                                                                 \n",
      " dropout_3 (Dropout)         (None, 64)                0         \n",
      "                                                                 \n",
      " dense_1 (Dense)             (None, 1)                 65        \n",
      "                                                                 \n",
      "=================================================================\n",
      "Total params: 166,721\n",
      "Trainable params: 166,721\n",
      "Non-trainable params: 0\n",
      "_________________________________________________________________\n"
     ]
    }
   ],
   "source": [
    "model.summary()"
   ]
  },
  {
   "cell_type": "code",
   "execution_count": 14,
   "metadata": {},
   "outputs": [
    {
     "name": "stdout",
     "output_type": "stream",
     "text": [
      "Epoch 1/50\n",
      "1/1 [==============================] - 4s 4s/step - loss: 0.8312 - accuracy: 0.0000e+00\n",
      "Epoch 2/50\n",
      "1/1 [==============================] - 0s 78ms/step - loss: 0.4265 - accuracy: 1.0000\n",
      "Epoch 3/50\n",
      "1/1 [==============================] - 0s 72ms/step - loss: 0.2249 - accuracy: 1.0000\n",
      "Epoch 4/50\n",
      "1/1 [==============================] - 0s 68ms/step - loss: 0.1336 - accuracy: 1.0000\n",
      "Epoch 5/50\n",
      "1/1 [==============================] - 0s 57ms/step - loss: 0.0654 - accuracy: 1.0000\n",
      "Epoch 6/50\n",
      "1/1 [==============================] - 0s 58ms/step - loss: 0.0647 - accuracy: 1.0000\n",
      "Epoch 7/50\n",
      "1/1 [==============================] - 0s 60ms/step - loss: 0.0778 - accuracy: 1.0000\n",
      "Epoch 8/50\n",
      "1/1 [==============================] - 0s 56ms/step - loss: 0.0511 - accuracy: 1.0000\n",
      "Epoch 9/50\n",
      "1/1 [==============================] - 0s 63ms/step - loss: 0.0206 - accuracy: 1.0000\n",
      "Epoch 10/50\n",
      "1/1 [==============================] - 0s 62ms/step - loss: 0.0191 - accuracy: 1.0000\n",
      "Epoch 11/50\n",
      "1/1 [==============================] - 0s 54ms/step - loss: 0.0368 - accuracy: 1.0000\n",
      "Epoch 12/50\n",
      "1/1 [==============================] - 0s 62ms/step - loss: 0.0195 - accuracy: 1.0000\n",
      "Epoch 13/50\n",
      "1/1 [==============================] - 0s 78ms/step - loss: 0.0189 - accuracy: 1.0000\n",
      "Epoch 14/50\n",
      "1/1 [==============================] - 0s 60ms/step - loss: 0.0072 - accuracy: 1.0000\n",
      "Epoch 15/50\n",
      "1/1 [==============================] - 0s 62ms/step - loss: 0.0095 - accuracy: 1.0000\n",
      "Epoch 16/50\n",
      "1/1 [==============================] - 0s 64ms/step - loss: 0.0088 - accuracy: 1.0000\n",
      "Epoch 17/50\n",
      "1/1 [==============================] - 0s 57ms/step - loss: 0.0045 - accuracy: 1.0000\n",
      "Epoch 18/50\n",
      "1/1 [==============================] - 0s 68ms/step - loss: 0.0061 - accuracy: 1.0000\n",
      "Epoch 19/50\n",
      "1/1 [==============================] - 0s 68ms/step - loss: 0.0037 - accuracy: 1.0000\n",
      "Epoch 20/50\n",
      "1/1 [==============================] - 0s 59ms/step - loss: 0.0118 - accuracy: 1.0000\n",
      "Epoch 21/50\n",
      "1/1 [==============================] - 0s 53ms/step - loss: 0.0031 - accuracy: 1.0000\n",
      "Epoch 22/50\n",
      "1/1 [==============================] - 0s 50ms/step - loss: 0.0025 - accuracy: 1.0000\n",
      "Epoch 23/50\n",
      "1/1 [==============================] - 0s 54ms/step - loss: 0.0023 - accuracy: 1.0000\n",
      "Epoch 24/50\n",
      "1/1 [==============================] - 0s 52ms/step - loss: 0.0012 - accuracy: 1.0000\n",
      "Epoch 25/50\n",
      "1/1 [==============================] - 0s 52ms/step - loss: 6.7959e-04 - accuracy: 1.0000\n",
      "Epoch 26/50\n",
      "1/1 [==============================] - 0s 54ms/step - loss: 0.0021 - accuracy: 1.0000\n",
      "Epoch 27/50\n",
      "1/1 [==============================] - 0s 59ms/step - loss: 7.0317e-04 - accuracy: 1.0000\n",
      "Epoch 28/50\n",
      "1/1 [==============================] - 0s 63ms/step - loss: 0.0067 - accuracy: 1.0000\n",
      "Epoch 29/50\n",
      "1/1 [==============================] - 0s 71ms/step - loss: 6.5931e-04 - accuracy: 1.0000\n",
      "Epoch 30/50\n",
      "1/1 [==============================] - 0s 59ms/step - loss: 0.0016 - accuracy: 1.0000\n",
      "Epoch 31/50\n",
      "1/1 [==============================] - 0s 55ms/step - loss: 0.0014 - accuracy: 1.0000\n",
      "Epoch 32/50\n",
      "1/1 [==============================] - 0s 53ms/step - loss: 0.0011 - accuracy: 1.0000\n",
      "Epoch 33/50\n",
      "1/1 [==============================] - 0s 53ms/step - loss: 0.0011 - accuracy: 1.0000\n",
      "Epoch 34/50\n",
      "1/1 [==============================] - 0s 58ms/step - loss: 7.7712e-04 - accuracy: 1.0000\n",
      "Epoch 35/50\n",
      "1/1 [==============================] - 0s 55ms/step - loss: 0.0016 - accuracy: 1.0000\n",
      "Epoch 36/50\n",
      "1/1 [==============================] - 0s 56ms/step - loss: 0.0022 - accuracy: 1.0000\n",
      "Epoch 37/50\n",
      "1/1 [==============================] - 0s 51ms/step - loss: 0.0030 - accuracy: 1.0000\n",
      "Epoch 38/50\n",
      "1/1 [==============================] - 0s 55ms/step - loss: 0.0011 - accuracy: 1.0000\n",
      "Epoch 39/50\n",
      "1/1 [==============================] - 0s 52ms/step - loss: 7.1105e-04 - accuracy: 1.0000\n",
      "Epoch 40/50\n",
      "1/1 [==============================] - 0s 52ms/step - loss: 0.0018 - accuracy: 1.0000\n",
      "Epoch 41/50\n",
      "1/1 [==============================] - 0s 55ms/step - loss: 0.0011 - accuracy: 1.0000\n",
      "Epoch 42/50\n",
      "1/1 [==============================] - 0s 55ms/step - loss: 6.3786e-04 - accuracy: 1.0000\n",
      "Epoch 43/50\n",
      "1/1 [==============================] - 0s 51ms/step - loss: 6.8144e-04 - accuracy: 1.0000\n",
      "Epoch 44/50\n",
      "1/1 [==============================] - 0s 53ms/step - loss: 6.7123e-04 - accuracy: 1.0000\n",
      "Epoch 45/50\n",
      "1/1 [==============================] - 0s 83ms/step - loss: 5.4394e-04 - accuracy: 1.0000\n",
      "Epoch 46/50\n",
      "1/1 [==============================] - 0s 56ms/step - loss: 0.0012 - accuracy: 1.0000\n",
      "Epoch 47/50\n",
      "1/1 [==============================] - 0s 52ms/step - loss: 5.7659e-04 - accuracy: 1.0000\n",
      "Epoch 48/50\n",
      "1/1 [==============================] - 0s 51ms/step - loss: 4.6518e-04 - accuracy: 1.0000\n",
      "Epoch 49/50\n",
      "1/1 [==============================] - 0s 75ms/step - loss: 0.0010 - accuracy: 1.0000\n",
      "Epoch 50/50\n",
      "1/1 [==============================] - 0s 77ms/step - loss: 7.5887e-04 - accuracy: 1.0000\n"
     ]
    }
   ],
   "source": [
    "X=image\n",
    "y=np.array([0])\n",
    "y.reshape(1,1)\n",
    "history=model.fit(X,y,epochs=50)\n"
   ]
  },
  {
   "cell_type": "code",
   "execution_count": 15,
   "metadata": {},
   "outputs": [
    {
     "ename": "KeyError",
     "evalue": "'epoch'",
     "output_type": "error",
     "traceback": [
      "\u001b[1;31m---------------------------------------------------------------------------\u001b[0m",
      "\u001b[1;31mKeyError\u001b[0m                                  Traceback (most recent call last)",
      "\u001b[1;32md:\\IIT-Delhi\\Semester-2\\SIL765-Networks & System Security\\Project\\Implementation\\newcode.ipynb Cell 14\u001b[0m in \u001b[0;36m<cell line: 2>\u001b[1;34m()\u001b[0m\n\u001b[0;32m      <a href='vscode-notebook-cell:/d%3A/IIT-Delhi/Semester-2/SIL765-Networks%20%26%20System%20Security/Project/Implementation/newcode.ipynb#X15sZmlsZQ%3D%3D?line=0'>1</a>\u001b[0m plt\u001b[39m.\u001b[39mplot(history\u001b[39m.\u001b[39mhistory[\u001b[39m'\u001b[39m\u001b[39maccuracy\u001b[39m\u001b[39m'\u001b[39m])\n\u001b[1;32m----> <a href='vscode-notebook-cell:/d%3A/IIT-Delhi/Semester-2/SIL765-Networks%20%26%20System%20Security/Project/Implementation/newcode.ipynb#X15sZmlsZQ%3D%3D?line=1'>2</a>\u001b[0m plt\u001b[39m.\u001b[39mplot(history\u001b[39m.\u001b[39;49mhistory[\u001b[39m\"\u001b[39;49m\u001b[39mepoch\u001b[39;49m\u001b[39m\"\u001b[39;49m])\n\u001b[0;32m      <a href='vscode-notebook-cell:/d%3A/IIT-Delhi/Semester-2/SIL765-Networks%20%26%20System%20Security/Project/Implementation/newcode.ipynb#X15sZmlsZQ%3D%3D?line=2'>3</a>\u001b[0m plt\u001b[39m.\u001b[39mtitle(\u001b[39m'\u001b[39m\u001b[39mModel accuracy\u001b[39m\u001b[39m'\u001b[39m)\n\u001b[0;32m      <a href='vscode-notebook-cell:/d%3A/IIT-Delhi/Semester-2/SIL765-Networks%20%26%20System%20Security/Project/Implementation/newcode.ipynb#X15sZmlsZQ%3D%3D?line=3'>4</a>\u001b[0m plt\u001b[39m.\u001b[39mylabel(\u001b[39m'\u001b[39m\u001b[39mAccuracy\u001b[39m\u001b[39m'\u001b[39m)\n",
      "\u001b[1;31mKeyError\u001b[0m: 'epoch'"
     ]
    },
    {
     "data": {
      "image/png": "[encoded data removed]",
      "text/plain": [
       "<Figure size 432x288 with 1 Axes>"
      ]
     },
     "metadata": {
      "needs_background": "light"
     },
     "output_type": "display_data"
    }
   ],
   "source": [
    "plt.plot(history.history['accuracy'])\n",
    "plt.plot(history.history[\"epoch\"])\n",
    "plt.title('Model accuracy')\n",
    "plt.ylabel('Accuracy')\n",
    "plt.xlabel('Epoch')\n",
    "plt.legend(['Train', 'Test'], loc='upper left')\n",
    "plt.show()"
   ]
  }
 ],
 "metadata": {
  "kernelspec": {
   "display_name": "Python 3",
   "language": "python",
   "name": "python3"
  },
  "language_info": {
   "codemirror_mode": {
    "name": "ipython",
    "version": 3
   },
   "file_extension": ".py",
   "mimetype": "text/x-python",
   "name": "python",
   "nbconvert_exporter": "python",
   "pygments_lexer": "ipython3",
   "version": "3.10.4"
  },
  "orig_nbformat": 4
 },
 "nbformat": 4,
 "nbformat_minor": 2
}
