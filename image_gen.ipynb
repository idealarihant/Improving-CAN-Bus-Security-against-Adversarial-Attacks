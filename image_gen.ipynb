{
 "cells": [
  {
   "cell_type": "code",
   "execution_count": 1,
   "metadata": {},
   "outputs": [],
   "source": [
    "import pandas as pd\n",
    "import numpy as np\n",
    "from bokeh.plotting import figure,show\n",
    "import matplotlib.pyplot as plt\n",
    "from pyts.image import RecurrencePlot\n",
    "import tensorflow\n",
    "from tensorflow import keras\n",
    "from keras.layers import Dense,Conv2D,Flatten,MaxPooling2D,Dropout,InputLayer\n",
    "from keras import Sequential\n",
    "from keras.optimizers import Adam\n",
    "import re\n",
    "from sklearn.model_selection import train_test_split\n",
    "from sklearn import metrics\n",
    "from keras_tuner.tuners import Hyperband"
   ]
  },
  {
   "cell_type": "code",
   "execution_count": 4,
   "metadata": {},
   "outputs": [],
   "source": [
    "data_attack_free,data_spoofing_attack,data_fuzzy_attack,data_DoS_attack=[],[],[],[]\n",
    "with open(\"D:\\IIT-Delhi\\Semester-2\\SIL765-Networks & System Security\\Project\\Implementation\\DataSets\\Attack_free_dataset.txt\") as f_a:\n",
    "    data_attack_free.extend([re.sub(r\"Timestamp:\\s+(\\d+\\.\\d+)\\s+ID:\\s+([\\da-f]{4})\\s+\\d+\\s+DLC:\\s+\\d+(\\s+[\\da-f]{2})*\", r\"\\1@\\2\", lines).strip(\"\\n\").split(\"@\") for lines in f_a.readlines()])\n",
    "\n",
    "with open(\"D:\\IIT-Delhi\\Semester-2\\SIL765-Networks & System Security\\Project\\Implementation\\DataSets\\Impersonation_attack_dataset.txt\") as f_b:\n",
    "    data_spoofing_attack.extend([re.sub(r\"Timestamp:\\s+(\\d+\\.\\d+)\\s+ID:\\s+([\\da-f]{4})\\s+\\d+\\s+DLC:\\s+\\d+(\\s+[\\da-f]{2})*\", r\"\\1@\\2\", lines).strip(\"\\n\").split(\"@\") for lines in f_b.readlines()])\n",
    "\n",
    "with open(\"D:\\IIT-Delhi\\Semester-2\\SIL765-Networks & System Security\\Project\\Implementation\\DataSets\\Fuzzy_attack_dataset.txt\") as f_c:\n",
    "    data_fuzzy_attack.extend([re.sub(r\"Timestamp:\\s+(\\d+\\.\\d+)\\s+ID:\\s+([\\da-f]{4})\\s+\\d+\\s+DLC:\\s+\\d+(\\s+[\\da-f]{2})*\", r\"\\1@\\2\", lines).strip(\"\\n\").split(\"@\") for lines in f_c.readlines()])\n",
    "\n",
    "with open(\"D:\\IIT-Delhi\\Semester-2\\SIL765-Networks & System Security\\Project\\Implementation\\DataSets\\DoS_attack_dataset.txt\") as f_d:\n",
    "    data_DoS_attack.extend([re.sub(r\"Timestamp:\\s+(\\d+\\.\\d+)\\s+ID:\\s+([\\da-f]{4})\\s+\\d+\\s+DLC:\\s+\\d+(\\s+[\\da-f]{2})*\", r\"\\1@\\2\", lines).strip(\"\\n\").split(\"@\") for lines in f_d.readlines()])"
   ]
  },
  {
   "cell_type": "code",
   "execution_count": 5,
   "metadata": {},
   "outputs": [],
   "source": [
    "a_id_attack_free,a_id_spoofing_attack,a_id_fuzzy_attack,a_id_DoS_attack=[],[],[],[]\n",
    "for i in range(len(data_attack_free)):\n",
    "    a_id_attack_free.append(str(data_attack_free[i][1]))\n",
    "for i in range(len(data_spoofing_attack)):\n",
    "    a_id_spoofing_attack.append(str(data_spoofing_attack[i][1]))\n",
    "for i in range(len(data_fuzzy_attack)):\n",
    "    a_id_fuzzy_attack.append(str(data_fuzzy_attack[i][1]))\n",
    "for i in range(len(data_DoS_attack)):\n",
    "    a_id_DoS_attack.append(str(data_DoS_attack[i][1]))\n",
    "a1,a2,a3,a4=[],[],[],[]\n",
    "for hex_num in a_id_attack_free:\n",
    "    dec_value = int(hex_num, 16)\n",
    "    a1.append(dec_value)\n",
    "for hex_num in a_id_spoofing_attack:\n",
    "    dec_value = int(hex_num, 16)\n",
    "    a2.append(dec_value)\n",
    "for hex_num in a_id_fuzzy_attack:\n",
    "    dec_value = int(hex_num, 16)\n",
    "    a3.append(dec_value)\n",
    "for hex_num in a_id_DoS_attack:\n",
    "    dec_value = int(hex_num, 16)\n",
    "    a4.append(dec_value)"
   ]
  },
  {
   "cell_type": "code",
   "execution_count": 6,
   "metadata": {},
   "outputs": [],
   "source": [
    "range1=int(np.floor(len(a1)/(128*128)))\n",
    "range2=int(np.floor(len(a2)/(128*128)))\n",
    "range3=int(np.floor(len(a3)/(128*128)))\n",
    "range4=int(np.floor(len(a4)/(128*128)))"
   ]
  },
  {
   "cell_type": "code",
   "execution_count": 7,
   "metadata": {},
   "outputs": [],
   "source": [
    "storage=np.array([])\n",
    "rp = RecurrencePlot(dimension=1,threshold='point',percentage=40)\n",
    "temp1=[]\n",
    "count=0\n",
    "for i in range(range1):\n",
    "    temp=np.array(a1[(i*(128**2)):((i+1)*(128**2))])\n",
    "    temp=temp.reshape(128,128)\n",
    "    plot = rp.fit_transform(temp)\n",
    "    plot=np.array(plot[0])\n",
    "    plot=plot.astype(int)\n",
    "    storage=np.append(values=plot,arr=storage)\n",
    "    storage=storage.reshape(count+1,128,128,1)\n",
    "    count=count+1\n",
    "for i in range(range2):\n",
    "    temp=np.array(a2[(i*(128**2)):((i+1)*(128**2))])\n",
    "    temp=temp.reshape(128,128)\n",
    "    plot = rp.fit_transform(temp)\n",
    "    plot=np.array(plot[0])\n",
    "    plot=plot.astype(int)\n",
    "    storage=np.append(values=plot,arr=storage)\n",
    "    storage=storage.reshape(count+1,128,128,1)\n",
    "    count=count+1\n",
    "for i in range(range3):\n",
    "    temp=np.array(a3[(i*(128**2)):((i+1)*(128**2))])\n",
    "    temp=temp.reshape(128,128)\n",
    "    plot = rp.fit_transform(temp)\n",
    "    plot=np.array(plot[0])\n",
    "    plot=plot.astype(int)\n",
    "    storage=np.append(values=plot,arr=storage)\n",
    "    storage=storage.reshape(count+1,128,128,1)\n",
    "    count=count+1\n",
    "for i in range(range4):\n",
    "    temp=np.array(a4[(i*(128**2)):((i+1)*(128**2))])\n",
    "    temp=temp.reshape(128,128)\n",
    "    plot = rp.fit_transform(temp)\n",
    "    plot=np.array(plot[0])\n",
    "    plot=plot.astype(int)\n",
    "    storage=np.append(values=plot,arr=storage)\n",
    "    storage=storage.reshape(count+1,128,128,1)\n",
    "    count=count+1\n"
   ]
  },
  {
   "cell_type": "code",
   "execution_count": 8,
   "metadata": {},
   "outputs": [],
   "source": [
    "from keras.models import Sequential\n",
    "from keras.layers import LSTM, Dense, Dropout\n",
    "\n",
    "model = Sequential()\n",
    "model.add(LSTM(128, input_shape=(128,128), return_sequences=True))\n",
    "model.add(Dropout(0.2))\n",
    "model.add(LSTM(64, return_sequences=False))\n",
    "model.add(Dropout(0.2))\n",
    "model.add(Dense(1, activation='sigmoid'))\n",
    "\n",
    "model.compile(loss='binary_crossentropy', optimizer='adam', metrics=['accuracy'])"
   ]
  },
  {
   "cell_type": "code",
   "execution_count": null,
   "metadata": {},
   "outputs": [],
   "source": [
    "model=Sequential()\n",
    "model.add(Conv2D(filters=64,kernel_size=(3,3),padding=\"same\",activation=\"relu\",input_shape=(128,128,1)))\n",
    "model.add(MaxPooling2D(pool_size=(2,2),padding=\"valid\",strides=2))\n",
    "model.add(Conv2D(filters=256,kernel_size=(3,3),padding=\"same\",activation=\"relu\"))\n",
    "model.add(MaxPooling2D(pool_size=(2,2),padding=\"valid\",strides=2))\n",
    "model.add(Dropout(0.9))\n",
    "model.add(Flatten())\n",
    "model.add(Dense(units=16,activation=\"relu\"))\n",
    "model.add(Dense(units=1,activation=\"sigmoid\"))\n",
    "adam = Adam(learning_rate=0.0001)\n",
    "model.compile(optimizer=adam,loss=\"binary_crossentropy\",metrics=[\"accuracy\"])"
   ]
  },
  {
   "cell_type": "code",
   "execution_count": 9,
   "metadata": {},
   "outputs": [
    {
     "name": "stdout",
     "output_type": "stream",
     "text": [
      "Model: \"sequential\"\n",
      "_________________________________________________________________\n",
      " Layer (type)                Output Shape              Param #   \n",
      "=================================================================\n",
      " lstm (LSTM)                 (None, 128, 128)          131584    \n",
      "                                                                 \n",
      " dropout (Dropout)           (None, 128, 128)          0         \n",
      "                                                                 \n",
      " lstm_1 (LSTM)               (None, 64)                49408     \n",
      "                                                                 \n",
      " dropout_1 (Dropout)         (None, 64)                0         \n",
      "                                                                 \n",
      " dense (Dense)               (None, 1)                 65        \n",
      "                                                                 \n",
      "=================================================================\n",
      "Total params: 181,057\n",
      "Trainable params: 181,057\n",
      "Non-trainable params: 0\n",
      "_________________________________________________________________\n"
     ]
    }
   ],
   "source": [
    "storage.shape\n",
    "model.summary()"
   ]
  },
  {
   "cell_type": "code",
   "execution_count": 10,
   "metadata": {},
   "outputs": [],
   "source": [
    "X=storage\n",
    "y=np.array([])\n",
    "y=np.append(values=[0]*range1,arr=y)\n",
    "y=np.append(values=[1]*(range2+range3+range4),arr=y)\n",
    "y=y.astype(int)\n",
    "X_train,X_test,y_train,y_test=train_test_split(X,y,test_size=0.2)\n",
    "X_train, X_val, y_train, y_val = train_test_split(X_train, y_train, test_size=0.1)"
   ]
  },
  {
   "cell_type": "code",
   "execution_count": null,
   "metadata": {},
   "outputs": [
    {
     "data": {
      "text/plain": [
       "(201, 128, 128, 1)"
      ]
     },
     "execution_count": 10,
     "metadata": {},
     "output_type": "execute_result"
    }
   ],
   "source": [
    "X_train.shape"
   ]
  },
  {
   "cell_type": "code",
   "execution_count": 11,
   "metadata": {},
   "outputs": [
    {
     "name": "stdout",
     "output_type": "stream",
     "text": [
      "Epoch 1/80\n",
      "7/7 [==============================] - 7s 306ms/step - loss: 0.7187 - accuracy: 0.5025 - val_loss: 0.8148 - val_accuracy: 0.2174\n",
      "Epoch 2/80\n",
      "7/7 [==============================] - 1s 209ms/step - loss: 0.7009 - accuracy: 0.4876 - val_loss: 0.6355 - val_accuracy: 0.7826\n",
      "Epoch 3/80\n",
      "7/7 [==============================] - 1s 158ms/step - loss: 0.6702 - accuracy: 0.5920 - val_loss: 0.7435 - val_accuracy: 0.3478\n",
      "Epoch 4/80\n",
      "7/7 [==============================] - 2s 236ms/step - loss: 0.6408 - accuracy: 0.6816 - val_loss: 0.6382 - val_accuracy: 0.6957\n",
      "Epoch 5/80\n",
      "7/7 [==============================] - 1s 194ms/step - loss: 0.5909 - accuracy: 0.7363 - val_loss: 0.5644 - val_accuracy: 0.7826\n",
      "Epoch 6/80\n",
      "7/7 [==============================] - 2s 258ms/step - loss: 0.4826 - accuracy: 0.8557 - val_loss: 0.4334 - val_accuracy: 0.8261\n",
      "Epoch 7/80\n",
      "7/7 [==============================] - 2s 252ms/step - loss: 0.3810 - accuracy: 0.8358 - val_loss: 0.3855 - val_accuracy: 0.8696\n",
      "Epoch 8/80\n",
      "7/7 [==============================] - 2s 220ms/step - loss: 0.2491 - accuracy: 0.9204 - val_loss: 0.5538 - val_accuracy: 0.7826\n",
      "Epoch 9/80\n",
      "7/7 [==============================] - 1s 196ms/step - loss: 0.1171 - accuracy: 0.9701 - val_loss: 0.4473 - val_accuracy: 0.8261\n",
      "Epoch 10/80\n",
      "7/7 [==============================] - 2s 224ms/step - loss: 0.0464 - accuracy: 0.9950 - val_loss: 0.4218 - val_accuracy: 0.9130\n",
      "Epoch 11/80\n",
      "7/7 [==============================] - 2s 210ms/step - loss: 0.0127 - accuracy: 1.0000 - val_loss: 0.4471 - val_accuracy: 0.9130\n",
      "Epoch 12/80\n",
      "7/7 [==============================] - 2s 228ms/step - loss: 0.2932 - accuracy: 0.9005 - val_loss: 1.0955 - val_accuracy: 0.5217\n",
      "Epoch 13/80\n",
      "7/7 [==============================] - 2s 250ms/step - loss: 0.0567 - accuracy: 0.9851 - val_loss: 0.3920 - val_accuracy: 0.9130\n",
      "Epoch 14/80\n",
      "7/7 [==============================] - 2s 236ms/step - loss: 0.0705 - accuracy: 0.9851 - val_loss: 0.5454 - val_accuracy: 0.7826\n",
      "Epoch 15/80\n",
      "7/7 [==============================] - 2s 234ms/step - loss: 0.0358 - accuracy: 0.9950 - val_loss: 0.5350 - val_accuracy: 0.8696\n",
      "Epoch 16/80\n",
      "7/7 [==============================] - 2s 231ms/step - loss: 0.0152 - accuracy: 1.0000 - val_loss: 0.5278 - val_accuracy: 0.8696\n",
      "Epoch 17/80\n",
      "7/7 [==============================] - 2s 219ms/step - loss: 0.0083 - accuracy: 1.0000 - val_loss: 0.5709 - val_accuracy: 0.8696\n",
      "Epoch 18/80\n",
      "7/7 [==============================] - 2s 228ms/step - loss: 0.0058 - accuracy: 1.0000 - val_loss: 0.5790 - val_accuracy: 0.8696\n",
      "Epoch 19/80\n",
      "7/7 [==============================] - 2s 217ms/step - loss: 0.0047 - accuracy: 1.0000 - val_loss: 0.5838 - val_accuracy: 0.8696\n",
      "Epoch 20/80\n",
      "7/7 [==============================] - 1s 189ms/step - loss: 0.0040 - accuracy: 1.0000 - val_loss: 0.6638 - val_accuracy: 0.8696\n",
      "Epoch 21/80\n",
      "7/7 [==============================] - 1s 177ms/step - loss: 0.0038 - accuracy: 1.0000 - val_loss: 0.6421 - val_accuracy: 0.8696\n",
      "Epoch 22/80\n",
      "7/7 [==============================] - 1s 181ms/step - loss: 0.0027 - accuracy: 1.0000 - val_loss: 0.6313 - val_accuracy: 0.8696\n",
      "Epoch 23/80\n",
      "7/7 [==============================] - 1s 203ms/step - loss: 0.0028 - accuracy: 1.0000 - val_loss: 0.6527 - val_accuracy: 0.8696\n",
      "Epoch 24/80\n",
      "7/7 [==============================] - 1s 200ms/step - loss: 0.0026 - accuracy: 1.0000 - val_loss: 0.6564 - val_accuracy: 0.8696\n",
      "Epoch 25/80\n",
      "7/7 [==============================] - 1s 181ms/step - loss: 0.0024 - accuracy: 1.0000 - val_loss: 0.6897 - val_accuracy: 0.8696\n",
      "Epoch 26/80\n",
      "7/7 [==============================] - 1s 180ms/step - loss: 0.0023 - accuracy: 1.0000 - val_loss: 0.7009 - val_accuracy: 0.8696\n",
      "Epoch 27/80\n",
      "7/7 [==============================] - 1s 178ms/step - loss: 0.0019 - accuracy: 1.0000 - val_loss: 0.6896 - val_accuracy: 0.8696\n",
      "Epoch 28/80\n",
      "7/7 [==============================] - 1s 209ms/step - loss: 0.0019 - accuracy: 1.0000 - val_loss: 0.6894 - val_accuracy: 0.8696\n",
      "Epoch 29/80\n",
      "7/7 [==============================] - 1s 201ms/step - loss: 0.0017 - accuracy: 1.0000 - val_loss: 0.6870 - val_accuracy: 0.8696\n",
      "Epoch 30/80\n",
      "7/7 [==============================] - 1s 183ms/step - loss: 0.0017 - accuracy: 1.0000 - val_loss: 0.6904 - val_accuracy: 0.8696\n",
      "Epoch 31/80\n",
      "7/7 [==============================] - 1s 182ms/step - loss: 0.0015 - accuracy: 1.0000 - val_loss: 0.6871 - val_accuracy: 0.8696\n",
      "Epoch 32/80\n",
      "7/7 [==============================] - 1s 173ms/step - loss: 0.0016 - accuracy: 1.0000 - val_loss: 0.6782 - val_accuracy: 0.8696\n",
      "Epoch 33/80\n",
      "7/7 [==============================] - 1s 213ms/step - loss: 0.0014 - accuracy: 1.0000 - val_loss: 0.6866 - val_accuracy: 0.8696\n",
      "Epoch 34/80\n",
      "7/7 [==============================] - 1s 187ms/step - loss: 0.0015 - accuracy: 1.0000 - val_loss: 0.6973 - val_accuracy: 0.8696\n",
      "Epoch 35/80\n",
      "7/7 [==============================] - 1s 173ms/step - loss: 0.0013 - accuracy: 1.0000 - val_loss: 0.7056 - val_accuracy: 0.8696\n",
      "Epoch 36/80\n",
      "7/7 [==============================] - 1s 175ms/step - loss: 0.0012 - accuracy: 1.0000 - val_loss: 0.7120 - val_accuracy: 0.8696\n",
      "Epoch 37/80\n",
      "7/7 [==============================] - 1s 177ms/step - loss: 0.0012 - accuracy: 1.0000 - val_loss: 0.7231 - val_accuracy: 0.8696\n",
      "Epoch 38/80\n",
      "7/7 [==============================] - 2s 250ms/step - loss: 0.0011 - accuracy: 1.0000 - val_loss: 0.7266 - val_accuracy: 0.8696\n",
      "Epoch 39/80\n",
      "7/7 [==============================] - 2s 261ms/step - loss: 0.0011 - accuracy: 1.0000 - val_loss: 0.7321 - val_accuracy: 0.8696\n",
      "Epoch 40/80\n",
      "7/7 [==============================] - 2s 223ms/step - loss: 0.0011 - accuracy: 1.0000 - val_loss: 0.7562 - val_accuracy: 0.8696\n",
      "Epoch 41/80\n",
      "7/7 [==============================] - 2s 216ms/step - loss: 0.0010 - accuracy: 1.0000 - val_loss: 0.7508 - val_accuracy: 0.8696\n",
      "Epoch 42/80\n",
      "7/7 [==============================] - 2s 254ms/step - loss: 9.7190e-04 - accuracy: 1.0000 - val_loss: 0.7434 - val_accuracy: 0.8696\n",
      "Epoch 43/80\n",
      "7/7 [==============================] - 1s 202ms/step - loss: 9.1332e-04 - accuracy: 1.0000 - val_loss: 0.7357 - val_accuracy: 0.8696\n",
      "Epoch 44/80\n",
      "7/7 [==============================] - 1s 201ms/step - loss: 9.5359e-04 - accuracy: 1.0000 - val_loss: 0.7318 - val_accuracy: 0.8696\n",
      "Epoch 45/80\n",
      "7/7 [==============================] - 1s 196ms/step - loss: 9.8197e-04 - accuracy: 1.0000 - val_loss: 0.7424 - val_accuracy: 0.8696\n",
      "Epoch 46/80\n",
      "7/7 [==============================] - 2s 257ms/step - loss: 8.4639e-04 - accuracy: 1.0000 - val_loss: 0.7508 - val_accuracy: 0.8696\n",
      "Epoch 47/80\n",
      "7/7 [==============================] - 2s 235ms/step - loss: 7.9901e-04 - accuracy: 1.0000 - val_loss: 0.7650 - val_accuracy: 0.8696\n",
      "Epoch 48/80\n",
      "7/7 [==============================] - 2s 216ms/step - loss: 8.4468e-04 - accuracy: 1.0000 - val_loss: 0.7754 - val_accuracy: 0.8696\n",
      "Epoch 49/80\n",
      "7/7 [==============================] - 1s 194ms/step - loss: 7.8102e-04 - accuracy: 1.0000 - val_loss: 0.7872 - val_accuracy: 0.8696\n",
      "Epoch 50/80\n",
      "7/7 [==============================] - 2s 268ms/step - loss: 6.8339e-04 - accuracy: 1.0000 - val_loss: 0.7814 - val_accuracy: 0.8696\n",
      "Epoch 51/80\n",
      "7/7 [==============================] - 2s 221ms/step - loss: 7.2990e-04 - accuracy: 1.0000 - val_loss: 0.7794 - val_accuracy: 0.8696\n",
      "Epoch 52/80\n",
      "7/7 [==============================] - 2s 220ms/step - loss: 6.4774e-04 - accuracy: 1.0000 - val_loss: 0.7731 - val_accuracy: 0.8696\n",
      "Epoch 53/80\n",
      "7/7 [==============================] - 1s 200ms/step - loss: 6.9776e-04 - accuracy: 1.0000 - val_loss: 0.7682 - val_accuracy: 0.8696\n",
      "Epoch 54/80\n",
      "7/7 [==============================] - 2s 238ms/step - loss: 6.3778e-04 - accuracy: 1.0000 - val_loss: 0.7793 - val_accuracy: 0.8696\n",
      "Epoch 55/80\n",
      "7/7 [==============================] - 2s 229ms/step - loss: 6.7318e-04 - accuracy: 1.0000 - val_loss: 0.7833 - val_accuracy: 0.8696\n",
      "Epoch 56/80\n",
      "7/7 [==============================] - 1s 195ms/step - loss: 5.6112e-04 - accuracy: 1.0000 - val_loss: 0.7898 - val_accuracy: 0.8696\n",
      "Epoch 57/80\n",
      "7/7 [==============================] - 2s 220ms/step - loss: 5.4388e-04 - accuracy: 1.0000 - val_loss: 0.7791 - val_accuracy: 0.8696\n",
      "Epoch 58/80\n",
      "7/7 [==============================] - 2s 214ms/step - loss: 6.0421e-04 - accuracy: 1.0000 - val_loss: 0.7567 - val_accuracy: 0.8696\n",
      "Epoch 59/80\n",
      "7/7 [==============================] - 2s 247ms/step - loss: 5.5293e-04 - accuracy: 1.0000 - val_loss: 0.7623 - val_accuracy: 0.8696\n",
      "Epoch 60/80\n",
      "7/7 [==============================] - 1s 200ms/step - loss: 5.2986e-04 - accuracy: 1.0000 - val_loss: 0.7654 - val_accuracy: 0.8696\n",
      "Epoch 61/80\n",
      "7/7 [==============================] - 1s 194ms/step - loss: 5.3163e-04 - accuracy: 1.0000 - val_loss: 0.7677 - val_accuracy: 0.8696\n",
      "Epoch 62/80\n",
      "7/7 [==============================] - 1s 204ms/step - loss: 5.1988e-04 - accuracy: 1.0000 - val_loss: 0.7833 - val_accuracy: 0.8696\n",
      "Epoch 63/80\n",
      "7/7 [==============================] - 2s 256ms/step - loss: 4.9176e-04 - accuracy: 1.0000 - val_loss: 0.7923 - val_accuracy: 0.8696\n",
      "Epoch 64/80\n",
      "7/7 [==============================] - 2s 211ms/step - loss: 4.6388e-04 - accuracy: 1.0000 - val_loss: 0.7988 - val_accuracy: 0.8696\n",
      "Epoch 65/80\n",
      "7/7 [==============================] - 1s 197ms/step - loss: 4.9050e-04 - accuracy: 1.0000 - val_loss: 0.8128 - val_accuracy: 0.8696\n",
      "Epoch 66/80\n",
      "7/7 [==============================] - 1s 201ms/step - loss: 4.6765e-04 - accuracy: 1.0000 - val_loss: 0.8242 - val_accuracy: 0.8261\n",
      "Epoch 67/80\n",
      "7/7 [==============================] - 2s 230ms/step - loss: 4.7684e-04 - accuracy: 1.0000 - val_loss: 0.8054 - val_accuracy: 0.8696\n",
      "Epoch 68/80\n",
      "7/7 [==============================] - 2s 222ms/step - loss: 4.5340e-04 - accuracy: 1.0000 - val_loss: 0.7754 - val_accuracy: 0.8696\n",
      "Epoch 69/80\n",
      "7/7 [==============================] - 1s 196ms/step - loss: 4.8367e-04 - accuracy: 1.0000 - val_loss: 0.7708 - val_accuracy: 0.8696\n",
      "Epoch 70/80\n",
      "7/7 [==============================] - 2s 217ms/step - loss: 4.6783e-04 - accuracy: 1.0000 - val_loss: 0.7752 - val_accuracy: 0.8696\n",
      "Epoch 71/80\n",
      "7/7 [==============================] - 1s 205ms/step - loss: 3.8763e-04 - accuracy: 1.0000 - val_loss: 0.7939 - val_accuracy: 0.8696\n",
      "Epoch 72/80\n",
      "7/7 [==============================] - 2s 253ms/step - loss: 3.8543e-04 - accuracy: 1.0000 - val_loss: 0.8079 - val_accuracy: 0.8696\n",
      "Epoch 73/80\n",
      "7/7 [==============================] - 1s 196ms/step - loss: 3.9079e-04 - accuracy: 1.0000 - val_loss: 0.8041 - val_accuracy: 0.8696\n",
      "Epoch 74/80\n",
      "7/7 [==============================] - 1s 196ms/step - loss: 3.8751e-04 - accuracy: 1.0000 - val_loss: 0.7997 - val_accuracy: 0.8696\n",
      "Epoch 75/80\n",
      "7/7 [==============================] - 1s 196ms/step - loss: 3.9166e-04 - accuracy: 1.0000 - val_loss: 0.7986 - val_accuracy: 0.8696\n",
      "Epoch 76/80\n",
      "7/7 [==============================] - 2s 249ms/step - loss: 3.6092e-04 - accuracy: 1.0000 - val_loss: 0.7980 - val_accuracy: 0.8696\n",
      "Epoch 77/80\n",
      "7/7 [==============================] - 1s 203ms/step - loss: 3.7586e-04 - accuracy: 1.0000 - val_loss: 0.7976 - val_accuracy: 0.8696\n",
      "Epoch 78/80\n",
      "7/7 [==============================] - 1s 197ms/step - loss: 3.8133e-04 - accuracy: 1.0000 - val_loss: 0.7925 - val_accuracy: 0.8696\n",
      "Epoch 79/80\n",
      "7/7 [==============================] - 1s 206ms/step - loss: 3.7604e-04 - accuracy: 1.0000 - val_loss: 0.7719 - val_accuracy: 0.8696\n",
      "Epoch 80/80\n",
      "7/7 [==============================] - 2s 259ms/step - loss: 3.5797e-04 - accuracy: 1.0000 - val_loss: 0.7728 - val_accuracy: 0.8696\n",
      "2/2 [==============================] - 0s 102ms/step - loss: 0.9369 - accuracy: 0.8571\n"
     ]
    }
   ],
   "source": [
    "history = model.fit(X_train, y_train, epochs=80, validation_data=(X_val, y_val))\n",
    "loss, accuracy = model.evaluate(X_test, y_test)\n",
    "# y_pred = model.predict(X_new)\n"
   ]
  },
  {
   "cell_type": "code",
   "execution_count": null,
   "metadata": {},
   "outputs": [
    {
     "name": "stdout",
     "output_type": "stream",
     "text": [
      "0.2552952468395233 0.875\n"
     ]
    }
   ],
   "source": [
    "print(loss,accuracy)"
   ]
  },
  {
   "cell_type": "code",
   "execution_count": 12,
   "metadata": {},
   "outputs": [
    {
     "data": {
      "image/png": "[encoded data removed]",
      "text/plain": [
       "<Figure size 432x288 with 1 Axes>"
      ]
     },
     "metadata": {
      "needs_background": "light"
     },
     "output_type": "display_data"
    }
   ],
   "source": [
    "\n",
    "plt.plot(history.history['val_loss'],color='red',label='validation loss')\n",
    "plt.plot(history.history['val_accuracy'],color='green',label='validation accuracy')\n",
    "# plt.plot(history.history['val_accuracy'])\n",
    "plt.title('CNN Model validation loss & validation accuracy')\n",
    "# plt.ylabel('')\n",
    "plt.xlabel('Epochs')\n",
    "plt.legend()\n",
    "# plt.Color()\n",
    "# plt.legend(['Train', 'Test'], loc='upper left')\n",
    "plt.show()"
   ]
  },
  {
   "cell_type": "code",
   "execution_count": 13,
   "metadata": {},
   "outputs": [
    {
     "name": "stdout",
     "output_type": "stream",
     "text": [
      "2/2 [==============================] - 1s 60ms/step\n",
      "              precision    recall  f1-score   support\n",
      "\n",
      "      Normal       0.95      0.74      0.83        27\n",
      "      Attack       0.80      0.97      0.88        29\n",
      "\n",
      "    accuracy                           0.86        56\n",
      "   macro avg       0.88      0.85      0.85        56\n",
      "weighted avg       0.87      0.86      0.85        56\n",
      "\n",
      "[0.         0.25925926 1.        ] [0.         0.96551724 1.        ]\n"
     ]
    },
    {
     "data": {
      "image/png": "[encoded data removed]",
      "text/plain": [
       "<Figure size 432x288 with 1 Axes>"
      ]
     },
     "metadata": {
      "needs_background": "light"
     },
     "output_type": "display_data"
    }
   ],
   "source": [
    "from sklearn.metrics import classification_report,roc_auc_score,auc,roc_curve\n",
    "y_score=model.predict(X_test)\n",
    "y_pred=np.round(y_score)\n",
    "target_names = [\"Normal\",\"Attack\"]\n",
    "print(classification_report(y_test, y_pred,target_names=target_names))\n",
    "roc_score=roc_auc_score(y_test,y_score)\n",
    "# print(roc_score)\n",
    "fpr, tpr, thresholds = roc_curve(y_test, y_pred)\n",
    "print(fpr,tpr)\n",
    "roc_auc = auc(fpr, tpr)\n",
    "plt.plot(fpr, tpr, label='ROC curve (area = %0.2f)' % roc_auc,color='magenta')\n",
    "plt.plot([0, 1], [0, 1], 'k--')\n",
    "plt.xlim([0.0, 1.0])\n",
    "plt.ylim([0.0, 1.05])\n",
    "plt.xlabel('False Positive Rate')\n",
    "plt.ylabel('True Positive Rate')\n",
    "plt.title('Receiver Operating Characteristic (ROC)')\n",
    "plt.legend(loc=\"lower right\")\n",
    "plt.show()"
   ]
  }
 ],
 "metadata": {
  "kernelspec": {
   "display_name": "Python 3",
   "language": "python",
   "name": "python3"
  },
  "language_info": {
   "codemirror_mode": {
    "name": "ipython",
    "version": 3
   },
   "file_extension": ".py",
   "mimetype": "text/x-python",
   "name": "python",
   "nbconvert_exporter": "python",
   "pygments_lexer": "ipython3",
   "version": "3.10.4"
  },
  "orig_nbformat": 4
 },
 "nbformat": 4,
 "nbformat_minor": 2
}
